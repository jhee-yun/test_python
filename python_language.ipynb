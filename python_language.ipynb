{
  "nbformat": 4,
  "nbformat_minor": 0,
  "metadata": {
    "colab": {
      "name": "python_language.ipynb",
      "provenance": [],
      "authorship_tag": "ABX9TyNGKVvfjmXcBdKK7roXCUby",
      "include_colab_link": true
    },
    "kernelspec": {
      "name": "python3",
      "display_name": "Python 3"
    },
    "language_info": {
      "name": "python"
    }
  },
  "cells": [
    {
      "cell_type": "markdown",
      "metadata": {
        "id": "view-in-github",
        "colab_type": "text"
      },
      "source": [
        "<a href=\"https://colab.research.google.com/github/jhee-yun/test_python/blob/main/python_language.ipynb\" target=\"_parent\"><img src=\"https://colab.research.google.com/assets/colab-badge.svg\" alt=\"Open In Colab\"/></a>"
      ]
    },
    {
      "cell_type": "code",
      "metadata": {
        "id": "8k5ujQoWTkq1"
      },
      "source": [
        "import numpy as np"
      ],
      "execution_count": 1,
      "outputs": []
    },
    {
      "cell_type": "code",
      "metadata": {
        "colab": {
          "base_uri": "https://localhost:8080/",
          "height": 35
        },
        "id": "et-5w1fNVbYR",
        "outputId": "26748e34-1dba-40f5-890e-a722f3127a8c"
      },
      "source": [
        "np.__version__"
      ],
      "execution_count": 2,
      "outputs": [
        {
          "output_type": "execute_result",
          "data": {
            "application/vnd.google.colaboratory.intrinsic+json": {
              "type": "string"
            },
            "text/plain": [
              "'1.19.5'"
            ]
          },
          "metadata": {
            "tags": []
          },
          "execution_count": 2
        }
      ]
    },
    {
      "cell_type": "code",
      "metadata": {
        "id": "ZvxjaHU62aKB"
      },
      "source": [
        "def onehotcylinder(cylinders):\n",
        "  if cylinders == 3:\n",
        "    cylinder = np.array([1,0,0,0,0])\n",
        "  elif cylinders == 4:\n",
        "    cylinder = np.array([0,1,0,0,0])\n",
        "  elif cylinders == 5:\n",
        "    cylinder = np.array([0,0,1,0,0])\n",
        "  elif cylinders == 6:\n",
        "    cylinder = np.array([0,0,0,1,0])\n",
        "  else :\n",
        "    cylinder = np.array([0,0,0,0,1])\n",
        "  return cylinder"
      ],
      "execution_count": 39,
      "outputs": []
    },
    {
      "cell_type": "code",
      "metadata": {
        "id": "Svwx0Nv3Vzm1"
      },
      "source": [
        "displacement = 307.0\n",
        "horsepower = 130.0\n",
        "weight = 3504.0\n",
        "accel = 12.0\n",
        "cylinders = 8\n",
        "origin = 1\n",
        "\n",
        "# if cylinders = 8, origin = 1 -> onehot encoding\n",
        "\n",
        "import numpy as np\n",
        "\n",
        "if cylinders == 3:\n",
        "  cylinder = np.array([1,0,0,0,0])\n",
        "elif cylinders == 4:\n",
        "  cylinder = np.array([0,1,0,0,0])\n",
        "elif cylinders == 5:\n",
        "  cylinder = np.array([0,0,1,0,0])\n",
        "elif cylinders == 6:\n",
        "  cylinder = np.array([0,0,0,1,0])\n",
        "else :\n",
        "  cylinder = np.array([0,0,0,0,1])\n",
        "\n",
        "\n",
        "x_continus = np.array([displacement, horsepower, weight, accel])\n",
        "# cylinder = np.array([0,0,0,0,1])\n",
        "cylinder = onehotcylinder(cylinders)\n",
        "org = np.array([1,0,0])"
      ],
      "execution_count": 44,
      "outputs": []
    },
    {
      "cell_type": "code",
      "metadata": {
        "colab": {
          "base_uri": "https://localhost:8080/"
        },
        "id": "5bA7gnQo3EPJ",
        "outputId": "aa827712-21d5-4986-85cf-7c151c416b10"
      },
      "source": [
        "onehotcylinder(4), onehotcylinder(6)"
      ],
      "execution_count": 43,
      "outputs": [
        {
          "output_type": "execute_result",
          "data": {
            "text/plain": [
              "(array([0, 1, 0, 0, 0]), array([0, 0, 0, 1, 0]))"
            ]
          },
          "metadata": {
            "tags": []
          },
          "execution_count": 43
        }
      ]
    },
    {
      "cell_type": "code",
      "metadata": {
        "colab": {
          "base_uri": "https://localhost:8080/"
        },
        "id": "NlXbgdTyhPOw",
        "outputId": "75d6afa1-1638-40e6-f9be-c2203055928b"
      },
      "source": [
        "cylinder"
      ],
      "execution_count": 16,
      "outputs": [
        {
          "output_type": "execute_result",
          "data": {
            "text/plain": [
              "array([0, 0, 0, 0, 1])"
            ]
          },
          "metadata": {
            "tags": []
          },
          "execution_count": 16
        }
      ]
    },
    {
      "cell_type": "code",
      "metadata": {
        "colab": {
          "base_uri": "https://localhost:8080/"
        },
        "id": "RZZK1GymXd8s",
        "outputId": "6f078d9b-494b-4c6d-dc80-62654e8c9379"
      },
      "source": [
        "# type(x_continus), type(cylinder), type(org)"
      ],
      "execution_count": 7,
      "outputs": [
        {
          "output_type": "execute_result",
          "data": {
            "text/plain": [
              "(numpy.ndarray, numpy.ndarray, numpy.ndarray)"
            ]
          },
          "metadata": {
            "tags": []
          },
          "execution_count": 7
        }
      ]
    },
    {
      "cell_type": "code",
      "metadata": {
        "colab": {
          "base_uri": "https://localhost:8080/"
        },
        "id": "m1sbpaPrXxSF",
        "outputId": "f8711b5e-6399-4632-a006-25a79050bf09"
      },
      "source": [
        "# np.concatenate((a, b), axis=None)\n",
        "result = np.concatenate((x_continus, cylinder, org), axis=None)\n",
        "result.shape, result"
      ],
      "execution_count": 45,
      "outputs": [
        {
          "output_type": "execute_result",
          "data": {
            "text/plain": [
              "((12,),\n",
              " array([3.070e+02, 1.300e+02, 3.504e+03, 1.200e+01, 0.000e+00, 0.000e+00,\n",
              "        0.000e+00, 0.000e+00, 1.000e+00, 1.000e+00, 0.000e+00, 0.000e+00]))"
            ]
          },
          "metadata": {
            "tags": []
          },
          "execution_count": 45
        }
      ]
    },
    {
      "cell_type": "code",
      "metadata": {
        "colab": {
          "base_uri": "https://localhost:8080/"
        },
        "id": "aoFHhubmZIeD",
        "outputId": "7d9f8b82-b54c-4827-a8bd-8ca254c096c2"
      },
      "source": [
        "#[307.0,130.0,3504.0,12.0,0,0,0,0,1,1,0,0]\n",
        "#result.reshape(1,12) \n",
        "result = result.reshape(-1, result.size)\n",
        "result, result.shape"
      ],
      "execution_count": 46,
      "outputs": [
        {
          "output_type": "execute_result",
          "data": {
            "text/plain": [
              "(array([[3.070e+02, 1.300e+02, 3.504e+03, 1.200e+01, 0.000e+00, 0.000e+00,\n",
              "         0.000e+00, 0.000e+00, 1.000e+00, 1.000e+00, 0.000e+00, 0.000e+00]]),\n",
              " (1, 12))"
            ]
          },
          "metadata": {
            "tags": []
          },
          "execution_count": 46
        }
      ]
    },
    {
      "cell_type": "code",
      "metadata": {
        "colab": {
          "base_uri": "https://localhost:8080/"
        },
        "id": "SkJdmGqHbOZn",
        "outputId": "d18c144a-b120-4b38-a3e9-34c61af3d6d9"
      },
      "source": [
        "result.size, result"
      ],
      "execution_count": 19,
      "outputs": [
        {
          "output_type": "execute_result",
          "data": {
            "text/plain": [
              "(12, array([[3.070e+02, 1.300e+02, 3.504e+03, 1.200e+01, 0.000e+00, 0.000e+00,\n",
              "         0.000e+00, 0.000e+00, 1.000e+00, 1.000e+00, 0.000e+00, 0.000e+00]]))"
            ]
          },
          "metadata": {
            "tags": []
          },
          "execution_count": 19
        }
      ]
    },
    {
      "cell_type": "markdown",
      "metadata": {
        "id": "ku5eL3fWixzu"
      },
      "source": [
        "## function 이해"
      ]
    },
    {
      "cell_type": "code",
      "metadata": {
        "colab": {
          "base_uri": "https://localhost:8080/"
        },
        "id": "ODXfX-SrhhWH",
        "outputId": "f398d34c-7335-405b-ce3c-f079d4b9ec1e"
      },
      "source": [
        "21 + 14"
      ],
      "execution_count": 20,
      "outputs": [
        {
          "output_type": "execute_result",
          "data": {
            "text/plain": [
              "35"
            ]
          },
          "metadata": {
            "tags": []
          },
          "execution_count": 20
        }
      ]
    },
    {
      "cell_type": "code",
      "metadata": {
        "colab": {
          "base_uri": "https://localhost:8080/"
        },
        "id": "62oeJPbyi2wu",
        "outputId": "28467419-07c3-4b27-b8b5-6ec97e795f53"
      },
      "source": [
        "32+45"
      ],
      "execution_count": 21,
      "outputs": [
        {
          "output_type": "execute_result",
          "data": {
            "text/plain": [
              "77"
            ]
          },
          "metadata": {
            "tags": []
          },
          "execution_count": 21
        }
      ]
    },
    {
      "cell_type": "code",
      "metadata": {
        "id": "IPSj10kOjJPt"
      },
      "source": [
        "def sum():\n",
        "  first = 21\n",
        "  second = 14\n",
        "  result = first + second\n",
        "  return result"
      ],
      "execution_count": 25,
      "outputs": []
    },
    {
      "cell_type": "code",
      "metadata": {
        "colab": {
          "base_uri": "https://localhost:8080/"
        },
        "id": "2GNY87YZjNsG",
        "outputId": "fdd1fadb-77f3-4f39-ad0e-1d8c8c551948"
      },
      "source": [
        "sum()"
      ],
      "execution_count": 28,
      "outputs": [
        {
          "output_type": "execute_result",
          "data": {
            "text/plain": [
              "35"
            ]
          },
          "metadata": {
            "tags": []
          },
          "execution_count": 28
        }
      ]
    },
    {
      "cell_type": "markdown",
      "metadata": {
        "id": "JIq6YHenuHFx"
      },
      "source": [
        ""
      ]
    },
    {
      "cell_type": "code",
      "metadata": {
        "id": "MgEcPRxum1fG"
      },
      "source": [
        "def sum(f01,s01):\n",
        "  first = f01\n",
        "  second = s01\n",
        "  result = first + second\n",
        "  return result"
      ],
      "execution_count": 29,
      "outputs": []
    },
    {
      "cell_type": "code",
      "metadata": {
        "colab": {
          "base_uri": "https://localhost:8080/"
        },
        "id": "TUBDDg-QpBLF",
        "outputId": "809edc6d-5add-409d-8546-4f8aaae563f1"
      },
      "source": [
        "sum(32,21), sum(3,2), sum(21,564)"
      ],
      "execution_count": 31,
      "outputs": [
        {
          "output_type": "execute_result",
          "data": {
            "text/plain": [
              "(53, 5, 585)"
            ]
          },
          "metadata": {
            "tags": []
          },
          "execution_count": 31
        }
      ]
    },
    {
      "cell_type": "code",
      "metadata": {
        "id": "qIB-FZ2BpzkA"
      },
      "source": [
        "def multi(a1,b1,c1):\n",
        "  a = a1\n",
        "  b = b1\n",
        "  c = c1\n",
        "  result = a * b * c\n",
        "  return result"
      ],
      "execution_count": 33,
      "outputs": []
    },
    {
      "cell_type": "code",
      "metadata": {
        "colab": {
          "base_uri": "https://localhost:8080/"
        },
        "id": "wPGB7LjfuAqa",
        "outputId": "84c53d96-43e1-4928-905b-a86ad6acc458"
      },
      "source": [
        "multi(6,9,5)"
      ],
      "execution_count": 34,
      "outputs": [
        {
          "output_type": "execute_result",
          "data": {
            "text/plain": [
              "270"
            ]
          },
          "metadata": {
            "tags": []
          },
          "execution_count": 34
        }
      ]
    },
    {
      "cell_type": "code",
      "metadata": {
        "id": "ZFzgwI1xuEUT"
      },
      "source": [
        "# def differenceVars(*var01, **args02)\n",
        "def diffparam(*var_list, **var_dict):\n",
        "  print(var_dict)\n",
        "  result01 = len(var_list)\n",
        "  return result01"
      ],
      "execution_count": 36,
      "outputs": []
    },
    {
      "cell_type": "code",
      "metadata": {
        "colab": {
          "base_uri": "https://localhost:8080/"
        },
        "id": "tOQMKrVCzIqT",
        "outputId": "2a64dc02-9ae0-471e-b8f6-bbe2f125fd6b"
      },
      "source": [
        "diffparam(1,2,3,5,6, c=5, d=6, a=2,b=3)"
      ],
      "execution_count": 38,
      "outputs": [
        {
          "output_type": "stream",
          "text": [
            "{'c': 5, 'd': 6, 'a': 2, 'b': 3}\n"
          ],
          "name": "stdout"
        },
        {
          "output_type": "execute_result",
          "data": {
            "text/plain": [
              "5"
            ]
          },
          "metadata": {
            "tags": []
          },
          "execution_count": 38
        }
      ]
    },
    {
      "cell_type": "code",
      "metadata": {
        "id": "0vj3hXC0zgSn"
      },
      "source": [
        ""
      ],
      "execution_count": null,
      "outputs": []
    }
  ]
}